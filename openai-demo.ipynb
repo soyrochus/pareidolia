{
 "cells": [
  {
   "cell_type": "markdown",
   "id": "4883a57e-038a-4a51-baa5-8aab22aa798c",
   "metadata": {},
   "source": [
    "## Setting the environment\n",
    "\n",
    "The OPENAI_API_KEY should be loaded in an Environment Variable before starting jupyter-lab. This can be by setting the OPENAI_API_KEY \n",
    "environment variable before starting the JupyterLab executable. For example, in Powershell:\n",
    "\n",
    "```powershell \n",
    "$Env:OPENAI_API_KEY=\"sk-A_seCR_et_key_GENERATED_foryou_by_OPENAI\"\r\n",
    ". jupyter-lab.exI\n",
    "```\n",
    "## Simple LLM Call Using LangChain\n",
    " \n",
    "Let’s see how to make a simple LLM call using LangChain.\n",
    "\n",
    "To do so, let’s import the OpenAI wrapper. In this example, we’ll use the text-davinci-003 model:\n"
   ]
  },
  {
   "cell_type": "code",
   "execution_count": null,
   "id": "d4aa3e69-2c64-4640-830e-ffdd3a9f4303",
   "metadata": {},
   "outputs": [],
   "source": [
    "\n",
    "from langchain.llms import OpenAI\n",
    "llm = OpenAI(model_name=\"text-davinci-003\")\n",
    " "
   ]
  },
  {
   "cell_type": "markdown",
   "id": "7948c3cb-2386-44dd-abb6-74a2ab8f2ef3",
   "metadata": {},
   "source": [
    "About this model: _“text-davinci-003: Can do any language task with better quality, longer output, and consistent instruction-following than the curie, babbage, or ada models. Also supports inserting completions within text.”_ – OpenAI Docs\n",
    "\n",
    "Let’s define a question string and generate a response:\n",
    "\n"
   ]
  },
  {
   "cell_type": "code",
   "execution_count": null,
   "id": "5b1e600b-36fa-4f7e-ac75-e48c8cf458d9",
   "metadata": {},
   "outputs": [],
   "source": [
    "question = \"Which is the best programming language to learn in 2023?\"\n",
    "print(llm(question))"
   ]
  },
  {
   "cell_type": "code",
   "execution_count": null,
   "id": "5da6b8ed-c4b2-4fd8-861d-ed6809763e30",
   "metadata": {},
   "outputs": [],
   "source": []
  }
 ],
 "metadata": {
  "kernelspec": {
   "display_name": "Python 3 (ipykernel)",
   "language": "python",
   "name": "python3"
  },
  "language_info": {
   "codemirror_mode": {
    "name": "ipython",
    "version": 3
   },
   "file_extension": ".py",
   "mimetype": "text/x-python",
   "name": "python",
   "nbconvert_exporter": "python",
   "pygments_lexer": "ipython3",
   "version": "3.11.2"
  }
 },
 "nbformat": 4,
 "nbformat_minor": 5
}
