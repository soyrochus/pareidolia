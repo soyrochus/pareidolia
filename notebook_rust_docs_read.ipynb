{
 "cells": [
  {
   "cell_type": "markdown",
   "metadata": {},
   "source": [
    "# Test interrogating local Rust docs with an LLM"
   ]
  },
  {
   "cell_type": "markdown",
   "metadata": {},
   "source": [
    "See: [Talk to your Text files in Vector Databases with GPT-4 and ChromaDB](https://medium.com/@rubentak/unleashing-the-power-of-intelligent-chatbots-with-gpt-4-and-vector-databases-a-step-by-step-8027e2ce9e78)"
   ]
  },
  {
   "cell_type": "markdown",
   "metadata": {},
   "source": [
    "Import libraries"
   ]
  },
  {
   "cell_type": "code",
   "execution_count": 2,
   "metadata": {},
   "outputs": [],
   "source": [
    "\n",
    "from langchain.text_splitter import RecursiveCharacterTextSplitter\n",
    "from langchain.chat_models import ChatOpenAI\n",
    "import os\n",
    "from langchain.vectorstores import Chroma\n",
    "from langchain.embeddings import OpenAIEmbeddings\n",
    "from langchain.llms import OpenAI\n",
    "from langchain.chains import RetrievalQA\n",
    "from langchain.document_loaders import DirectoryLoader"
   ]
  },
  {
   "cell_type": "markdown",
   "metadata": {},
   "source": [
    "Initialize the basic parameters needed for Chroma, considering that the data already exists on disk"
   ]
  },
  {
   "cell_type": "code",
   "execution_count": 3,
   "metadata": {},
   "outputs": [],
   "source": [
    "persist_directory = 'db'\n",
    "\n",
    "# OpenAI embeddings\n",
    "embedding = OpenAIEmbeddings()"
   ]
  },
  {
   "cell_type": "markdown",
   "metadata": {},
   "source": [
    "Now we can load the persisted database from disk"
   ]
  },
  {
   "cell_type": "code",
   "execution_count": 4,
   "metadata": {},
   "outputs": [],
   "source": [
    "vectordb = Chroma(persist_directory=persist_directory,\n",
    "                   embedding_function=embedding)"
   ]
  },
  {
   "cell_type": "markdown",
   "metadata": {},
   "source": [
    "In order to get the data out of the database again, we need to create a retriever. This retriever will return all the documents (or chucks) related to the question asked:"
   ]
  },
  {
   "cell_type": "code",
   "execution_count": 5,
   "metadata": {},
   "outputs": [
    {
     "data": {
      "text/plain": [
       "[Document(page_content='Reading a File\\n\\nNow we’ll add functionality to read the file specified in the file_path\\nargument. First, we need a sample file to test it with: we’ll use a file with a\\nsmall amount of text over multiple lines with some repeated words. Listing 12-3\\nhas an Emily Dickinson poem that will work well! Create a file called\\npoem.txt at the root level of your project, and enter the poem “I’m Nobody!\\nWho are you?”\\n\\nFilename: poem.txt\\n\\ntext\\n{{#include ../listings/ch12-an-io-project/listing-12-03/poem.txt}}\\n\\nListing 12-3: A poem by Emily Dickinson makes a good test\\ncase\\n\\nWith the text in place, edit src/main.rs and add code to read the file, as\\nshown in Listing 12-4.\\n\\nFilename: src/main.rs\\n\\nrust,should_panic,noplayground\\n{{#rustdoc_include ../listings/ch12-an-io-project/listing-12-04/src/main.rs:here}}\\n\\nListing 12-4: Reading the contents of the file specified\\nby the second argument\\n\\nFirst, we bring in a relevant part of the standard library with a use\\nstatement: we need std::fs to handle files.', metadata={'source': 'D:\\\\src\\\\pareidolia\\\\book\\\\ch12-02-reading-a-file.md'}),\n",
       " Document(page_content='Listing 9-8: Chaining method calls after the ?\\noperator\\n\\nListing 9-9 shows a way to make this even shorter using fs::read_to_string.\\n\\nFilename: src/main.rs\\n\\nrust\\n{{#include ../listings/ch09-error-handling/listing-09-09/src/main.rs:here}}\\n\\nListing 9-9: Using fs::read_to_string instead of\\nopening and then reading the file\\n\\nReading a file into a string is a fairly common operation, so the standard\\nlibrary provides the convenient fs::read_to_string function that opens the\\nfile, creates a new String, reads the contents of the file, puts the contents\\ninto that String, and returns it. Of course, using fs::read_to_string\\ndoesn’t give us the opportunity to explain all the error handling, so we did it\\nthe longer way first.\\n\\nWhere The ? Operator Can Be Used\\n\\nIn Listing 9-10, let’s look at the error we’ll get if we use the ? operator\\nin a main function with a return type incompatible with the type of the value\\nwe use ? on:\\n\\nFilename: src/main.rs', metadata={'source': 'D:\\\\src\\\\pareidolia\\\\book\\\\ch09-02-recoverable-errors-with-result.md'}),\n",
       " Document(page_content='Listing 12-4: Reading the contents of the file specified\\nby the second argument\\n\\nFirst, we bring in a relevant part of the standard library with a use\\nstatement: we need std::fs to handle files.\\n\\nIn main, the new statement fs::read_to_string takes the file_path, opens\\nthat file, and returns a std::io::Result<String> of the file’s contents.\\n\\nAfter that, we again add a temporary println! statement that prints the value\\nof contents after the file is read, so we can check that the program is\\nworking so far.\\n\\nLet’s run this code with any string as the first command line argument (because\\nwe haven’t implemented the searching part yet) and the poem.txt file as the\\nsecond argument:\\n\\nconsole\\n{{#rustdoc_include ../listings/ch12-an-io-project/listing-12-04/output.txt}}', metadata={'source': 'D:\\\\src\\\\pareidolia\\\\book\\\\ch12-02-reading-a-file.md'}),\n",
       " Document(page_content='console\\n{{#rustdoc_include ../listings/ch12-an-io-project/listing-12-04/output.txt}}\\n\\nGreat! The code read and then printed the contents of the file. But the code\\nhas a few flaws. At the moment, the main function has multiple\\nresponsibilities: generally, functions are clearer and easier to maintain if\\neach function is responsible for only one idea. The other problem is that we’re\\nnot handling errors as well as we could. The program is still small, so these\\nflaws aren’t a big problem, but as the program grows, it will be harder to fix\\nthem cleanly. It’s good practice to begin refactoring early on when developing\\na program, because it’s much easier to refactor smaller amounts of code. We’ll\\ndo that next.', metadata={'source': 'D:\\\\src\\\\pareidolia\\\\book\\\\ch12-02-reading-a-file.md'})]"
      ]
     },
     "execution_count": 5,
     "metadata": {},
     "output_type": "execute_result"
    }
   ],
   "source": [
    "# Create retriever\n",
    "retriever = vectordb.as_retriever()\n",
    "\n",
    "docs = retriever.get_relevant_documents(\"How can I read a file in Rust?\")\n",
    "\n",
    "docs"
   ]
  },
  {
   "cell_type": "markdown",
   "metadata": {},
   "source": [
    "## Create a Q&A chain\n",
    "The chain will be created. Consider it to be akin to the prompt in ChatGPT."
   ]
  },
  {
   "cell_type": "code",
   "execution_count": 6,
   "metadata": {},
   "outputs": [],
   "source": [
    "# create the chain to answer questions\n",
    "qa_chain = RetrievalQA.from_chain_type(llm=OpenAI(),\n",
    "                                  chain_type=\"stuff\",\n",
    "                                  retriever=retriever,\n",
    "                                  return_source_documents=True,\n",
    "                                  verbose=True)"
   ]
  },
  {
   "cell_type": "markdown",
   "metadata": {},
   "source": [
    "To see how our chatbot will come to the answers that it returns, we can create the following function:"
   ]
  },
  {
   "cell_type": "code",
   "execution_count": 7,
   "metadata": {},
   "outputs": [],
   "source": [
    "# Cite sources\n",
    "def process_llm_response(llm_response):\n",
    "    print(llm_response['result'])\n",
    "    print('\\n\\nSources:')\n",
    "    for source in llm_response[\"source_documents\"]:\n",
    "        print(source.metadata['source'])"
   ]
  },
  {
   "cell_type": "markdown",
   "metadata": {},
   "source": [
    "Let's repeat the previous query:"
   ]
  },
  {
   "cell_type": "code",
   "execution_count": 10,
   "metadata": {},
   "outputs": [
    {
     "name": "stdout",
     "output_type": "stream",
     "text": [
      "\n",
      "\n",
      "\u001b[1m> Entering new  chain...\u001b[0m\n",
      "\n",
      "\u001b[1m> Finished chain.\u001b[0m\n",
      " You can use the fs::read_to_string function from the standard library to read the contents of a file into a String.\n",
      "\n",
      "\n",
      "Sources:\n",
      "D:\\src\\pareidolia\\book\\ch12-02-reading-a-file.md\n",
      "D:\\src\\pareidolia\\book\\ch09-02-recoverable-errors-with-result.md\n",
      "D:\\src\\pareidolia\\book\\ch12-02-reading-a-file.md\n",
      "D:\\src\\pareidolia\\book\\ch12-02-reading-a-file.md\n"
     ]
    }
   ],
   "source": [
    "query = \"How can I read a file in Rust?\"\n",
    "llm_response = qa_chain(query)\n",
    "process_llm_response(llm_response)"
   ]
  },
  {
   "cell_type": "code",
   "execution_count": 11,
   "metadata": {
    "scrolled": true
   },
   "outputs": [
    {
     "name": "stdout",
     "output_type": "stream",
     "text": [
      "\n",
      "\n",
      "\u001b[1m> Entering new  chain...\u001b[0m\n",
      "\n",
      "\u001b[1m> Finished chain.\u001b[0m\n",
      " Chapter 12 of the Rust book explains how to read a file in Rust. The example code from the book is shown below: \n",
      "{{#rustdoc_include ../listings/ch12-an-io-project/listing-12-04/src/main.rs}}\n",
      "\n",
      "\n",
      "Sources:\n",
      "D:\\src\\pareidolia\\book\\ch00-00-introduction.md\n",
      "D:\\src\\pareidolia\\book\\ch14-04-installing-binaries.md\n",
      "D:\\src\\pareidolia\\book\\ch00-00-introduction.md\n",
      "D:\\src\\pareidolia\\book\\ch12-02-reading-a-file.md\n"
     ]
    }
   ],
   "source": [
    "query = \"Give an example of how to read a file in Rust?\"\n",
    "llm_response = qa_chain(query)\n",
    "process_llm_response(llm_response)"
   ]
  },
  {
   "cell_type": "code",
   "execution_count": 12,
   "metadata": {},
   "outputs": [
    {
     "name": "stdout",
     "output_type": "stream",
     "text": [
      "\n",
      "\n",
      "\u001b[1m> Entering new  chain...\u001b[0m\n",
      "\n",
      "\u001b[1m> Finished chain.\u001b[0m\n",
      " Dynamic dispatch is when the compiler can’t tell at compile time which method you’re calling. Instead, at runtime, Rust uses the pointers inside the trait object to know which method to call. This lookup incurs a runtime cost that doesn’t occur with static dispatch. Dynamic dispatch is not new; it has been around for a while.\n",
      "\n",
      "\n",
      "Sources:\n",
      "D:\\src\\pareidolia\\book\\ch17-02-trait-objects.md\n",
      "D:\\src\\pareidolia\\book\\ch17-02-trait-objects.md\n",
      "D:\\src\\pareidolia\\book\\ch19-03-advanced-traits.md\n",
      "D:\\src\\pareidolia\\book\\ch10-02-traits.md\n"
     ]
    }
   ],
   "source": [
    "query = \"What is a dymanic trait. I am not familiar with this. Is it new? \"\n",
    "llm_response = qa_chain(query)\n",
    "process_llm_response(llm_response)"
   ]
  },
  {
   "cell_type": "code",
   "execution_count": 13,
   "metadata": {},
   "outputs": [
    {
     "name": "stdout",
     "output_type": "stream",
     "text": [
      "\n",
      "\n",
      "\u001b[1m> Entering new  chain...\u001b[0m\n",
      "\n",
      "\u001b[1m> Finished chain.\u001b[0m\n",
      " \n",
      "Rust is not difficult, however it does have a different approach to programming than Java or Python. Rust has a strong focus on memory safety and provides tools to help developers write reliable code. Java and Python are both high-level programming languages, but Rust allows developers to have more control over memory usage and performance.\n",
      "\n",
      "\n",
      "Sources:\n",
      "D:\\src\\pareidolia\\book\\foreword.md\n",
      "D:\\src\\pareidolia\\book\\foreword.md\n",
      "D:\\src\\pareidolia\\book\\ch00-00-introduction.md\n",
      "D:\\src\\pareidolia\\book\\SUMMARY.md\n"
     ]
    }
   ],
   "source": [
    "query = \"Is Rust difficult? How does it compare with Java? Or with Python?\"\n",
    "llm_response = qa_chain(query)\n",
    "process_llm_response(llm_response)"
   ]
  },
  {
   "cell_type": "code",
   "execution_count": 7,
   "metadata": {},
   "outputs": [
    {
     "name": "stdout",
     "output_type": "stream",
     "text": [
      "\n",
      "\n",
      "\u001b[1m> Entering new  chain...\u001b[0m\n",
      "\n",
      "\u001b[1m> Finished chain.\u001b[0m\n",
      " You can use the command cargo check to quickly check your code to make sure it compiles, but does not produce an executable. This is often much faster than cargo build, and can be used to check your code when writing it to make sure it compiles.\n",
      "\n",
      "\n",
      "Sources:\n",
      "D:\\src\\pareidolia\\book\\ch01-03-hello-cargo.md\n",
      "D:\\src\\pareidolia\\book\\ch01-02-hello-world.md\n",
      "D:\\src\\pareidolia\\book\\ch01-02-hello-world.md\n",
      "D:\\src\\pareidolia\\book\\ch01-03-hello-cargo.md\n"
     ]
    }
   ],
   "source": [
    "query = \"How can I speed up compiling?\"\n",
    "llm_response = qa_chain(query)\n",
    "process_llm_response(llm_response)"
   ]
  },
  {
   "cell_type": "markdown",
   "metadata": {},
   "source": [
    "[Now we have to implement conversational memory...](https://python.langchain.com/docs/modules/memory/how_to/conversational_customization)"
   ]
  },
  {
   "cell_type": "code",
   "execution_count": 10,
   "metadata": {},
   "outputs": [
    {
     "name": "stdout",
     "output_type": "stream",
     "text": [
      "\n",
      "\n",
      "\u001b[1m> Entering new  chain...\u001b[0m\n",
      "\n",
      "\u001b[1m> Finished chain.\u001b[0m\n",
      " Yes! Rust offers several tools to help you work with concurrency and parallelism. An example of starting a parallel task in Rust is to use the Rayon crate. You can use the Rayon crate to create Rayon \"thread pools\" and spawn tasks on those thread pools. For example, this code will spawn a task on a Rayon thread pool: \n",
      "let thread_pool = Rayon::new().unwrap();\n",
      "thread_pool.spawn(|| {\n",
      "    // Do something in the thread\n",
      "});\n",
      "\n",
      "\n",
      "Sources:\n",
      "D:\\src\\pareidolia\\book\\ch16-00-concurrency.md\n",
      "D:\\src\\pareidolia\\book\\foreword.md\n",
      "D:\\src\\pareidolia\\book\\ch00-00-introduction.md\n",
      "D:\\src\\pareidolia\\book\\ch16-00-concurrency.md\n"
     ]
    }
   ],
   "source": [
    "query = \"Can you show how to start a parralel task in Rust? Give an example.\"\n",
    "llm_response = qa_chain(query)\n",
    "process_llm_response(llm_response)"
   ]
  },
  {
   "cell_type": "code",
   "execution_count": null,
   "metadata": {},
   "outputs": [],
   "source": []
  }
 ],
 "metadata": {
  "kernelspec": {
   "display_name": "Python 3 (ipykernel)",
   "language": "python",
   "name": "python3"
  },
  "language_info": {
   "codemirror_mode": {
    "name": "ipython",
    "version": 3
   },
   "file_extension": ".py",
   "mimetype": "text/x-python",
   "name": "python",
   "nbconvert_exporter": "python",
   "pygments_lexer": "ipython3",
   "version": "3.11.1"
  }
 },
 "nbformat": 4,
 "nbformat_minor": 4
}
