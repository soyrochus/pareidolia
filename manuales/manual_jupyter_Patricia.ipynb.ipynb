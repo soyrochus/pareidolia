{
 "cells": [
  {
   "cell_type": "markdown",
   "id": "a30d1d92-1fc3-41bc-b554-a4c376a2d081",
   "metadata": {},
   "source": [
    "# **Step 1: Download Python**\n",
    "\n",
    "1. Open a web browser and go to the official Python website: https://www.python.org/.\n",
    "   \n",
    "2. Click on the \"Downloads\" tab.\n",
    "   \n",
    "3. Choose the appropriate Python version for your operating system (Windows, macOS, or Linux).\n",
    "   \n",
    "4. Select the latest stable version of Python, such as Python 3.9.6, and click on the download link.\n",
    "   \n",
    "5. Wait for the installer to download."
   ]
  },
  {
   "cell_type": "markdown",
   "id": "aec76a76-1b85-445c-beb9-03cca793d696",
   "metadata": {
    "jp-MarkdownHeadingCollapsed": true
   },
   "source": [
    "# **Step 2: Install Python**\n",
    "\r",
    "1. Locate the downloaded installer file and double-click on it.\n",
    "   \n",
    "2. Check the box that says \"Add Python to PATH\" during the installation process.\n",
    "   \n",
    "3. Click on \"Install Now\" or customize the installation by selecting different options if desired.\n",
    "   \n",
    "4. Wait for the installation to complete. ete."
   ]
  },
  {
   "cell_type": "markdown",
   "id": "3903c46e-485f-4f7d-867e-cf6d34766a85",
   "metadata": {},
   "source": [
    "# **Step 3: Verify the Installation**\n",
    "\n",
    "1. Open the command prompt (Windows) or terminal (macOS/Linux).\n",
    "   \n",
    "2. Type **'python --version'** and press Enter.\n",
    "   \n",
    "3. The installed Python version should be displayed in the terminal. For example, \"Python 3.9.6\"."
   ]
  },
  {
   "cell_type": "markdown",
   "id": "cf9320df-e512-4603-bb92-4cbf830b9f40",
   "metadata": {},
   "source": [
    "# **Step 4: Install Jupyter Notebooks**\n",
    "\n",
    "1. Open the command prompt (Windows) or terminal (macOS/Linux).\n",
    "   \n",
    "2. Type **'pip install jupyter'** and press Enter.\n",
    "   \n",
    "3. Wait for the installation to complete."
   ]
  },
  {
   "cell_type": "markdown",
   "id": "50fc9fd7-8057-4907-b322-d179fc84c6c4",
   "metadata": {},
   "source": [
    "# **Step 5: Launch Jupyter Notebooks**\n",
    "\n",
    "1. Open the command prompt (Windows) or terminal (macOS/Linux).\n",
    "   \n",
    "2. Type **'jupyter notebook'** and press Enter.\n",
    "   \n",
    "3. Your default web browser should open, showing the Jupyter Notebook dashboard."
   ]
  },
  {
   "cell_type": "markdown",
   "id": "687e6d72-20a2-4875-bf97-8b77b8c0124b",
   "metadata": {},
   "source": [
    "# **Basic Python Information:**\n",
    "\n",
    "* Python is a high-level, interpreted programming language known for its **simplicity** and **readability**.\n",
    "  \n",
    "* It has a **large** and **active** community, providing numerous libraries and frameworks for various purposes.\n",
    "  \n",
    "* Python supports **multiple programming paradigms**, including procedural, object-oriented, and functional programming.\n",
    "  \n",
    "* Python uses indentation (*whitespace at the beginning of a line*) to indicate block structure."
   ]
  },
  {
   "cell_type": "markdown",
   "id": "5a8d5dfd-9f55-40cf-8fb4-6a61c5772104",
   "metadata": {},
   "source": [
    "# **Example Code:**\n",
    "\n",
    "## Here are a few simple lines of Python code to give you a taste of the language:"
   ]
  },
  {
   "cell_type": "markdown",
   "id": "3ee10d85-6ec9-4b65-ba8a-e471c909e396",
   "metadata": {},
   "source": [
    "### 1. Printing \"Hello, World!\":"
   ]
  },
  {
   "cell_type": "code",
   "execution_count": 1,
   "id": "dd0a39e6-e076-4679-935c-be362fcb6f43",
   "metadata": {},
   "outputs": [
    {
     "name": "stdout",
     "output_type": "stream",
     "text": [
      "Hello, World!\n"
     ]
    }
   ],
   "source": [
    "print(\"Hello, World!\")"
   ]
  },
  {
   "cell_type": "markdown",
   "id": "3b797697-ad8e-4352-9607-b3f178885fc6",
   "metadata": {},
   "source": [
    "### 2. Basic arithmetic operations:"
   ]
  },
  {
   "cell_type": "code",
   "execution_count": 2,
   "id": "0f9a27cd-72db-4d4d-979e-cd53005aada4",
   "metadata": {},
   "outputs": [
    {
     "name": "stdout",
     "output_type": "stream",
     "text": [
      "8\n",
      "2\n",
      "15\n",
      "1.6666666666666667\n"
     ]
    }
   ],
   "source": [
    "x = 5\n",
    "y = 3\n",
    "print(x + y)  # Addition\n",
    "print(x - y)  # Subtraction\n",
    "print(x * y)  # Multiplication\n",
    "print(x / y)  # Division"
   ]
  },
  {
   "cell_type": "markdown",
   "id": "11d1bb26-77cc-42d1-80a5-27ea53e3c064",
   "metadata": {},
   "source": [
    "### 3. Using a loop to iterate over a list:"
   ]
  },
  {
   "cell_type": "code",
   "execution_count": 3,
   "id": "5e9d7316-571e-4fcd-930d-72c63dab91cc",
   "metadata": {},
   "outputs": [
    {
     "name": "stdout",
     "output_type": "stream",
     "text": [
      "apple\n",
      "banana\n",
      "orange\n"
     ]
    }
   ],
   "source": [
    "fruits = ['apple', 'banana', 'orange']\n",
    "for fruit in fruits:\n",
    "    print(fruit)"
   ]
  },
  {
   "cell_type": "markdown",
   "id": "10b76c78-0641-40ea-a647-d7ba4edebe4b",
   "metadata": {},
   "source": [
    "### 4. Basic Line Graph using Matplotlib:"
   ]
  },
  {
   "cell_type": "markdown",
   "id": "e95bc603-6e3b-4af8-81d3-742b428bb05e",
   "metadata": {},
   "source": [
    "#### To install Matplotlib, you can follow these steps:\n",
    "\n",
    "**Step 1:** Make sure you have Python installed on your laptop. If you haven't installed Python yet, you can refer to the previous instructions in this conversation for installing Python.\n",
    "\n",
    "**Step 2:** Open the command prompt (Windows) or terminal (macOS/Linux).\n",
    "\n",
    "**Step 3:** Type the following command and press Enter to install Matplotlib using pip, which is the default package manager for Python:\n"
   ]
  },
  {
   "cell_type": "code",
   "execution_count": 5,
   "id": "35757f8f-0716-4585-bd85-8d78fe51c4c2",
   "metadata": {},
   "outputs": [
    {
     "name": "stdout",
     "output_type": "stream",
     "text": [
      "Collecting matplotlib\n",
      "  Downloading matplotlib-3.7.1-cp311-cp311-win_amd64.whl (7.6 MB)\n",
      "                                              0.0/7.6 MB ? eta -:--:--\n",
      "                                              0.0/7.6 MB 991.0 kB/s eta 0:00:08\n",
      "                                              0.2/7.6 MB 1.8 MB/s eta 0:00:05\n",
      "     -                                        0.4/7.6 MB 2.9 MB/s eta 0:00:03\n",
      "     ---                                      0.7/7.6 MB 3.8 MB/s eta 0:00:02\n",
      "     ------                                   1.2/7.6 MB 5.4 MB/s eta 0:00:02\n",
      "     --------                                 1.7/7.6 MB 6.8 MB/s eta 0:00:01\n",
      "     -------------                            2.6/7.6 MB 8.2 MB/s eta 0:00:01\n",
      "     -----------------                        3.4/7.6 MB 9.4 MB/s eta 0:00:01\n",
      "     ----------------------                   4.2/7.6 MB 10.8 MB/s eta 0:00:01\n",
      "     -------------------------                4.9/7.6 MB 10.9 MB/s eta 0:00:01\n",
      "     ------------------------------           5.8/7.6 MB 11.9 MB/s eta 0:00:01\n",
      "     -------------------------------          6.0/7.6 MB 10.9 MB/s eta 0:00:01\n",
      "     -----------------------------------      6.8/7.6 MB 11.7 MB/s eta 0:00:01\n",
      "     -------------------------------------    7.2/7.6 MB 11.6 MB/s eta 0:00:01\n",
      "     ---------------------------------------  7.6/7.6 MB 11.3 MB/s eta 0:00:01\n",
      "     ---------------------------------------- 7.6/7.6 MB 10.6 MB/s eta 0:00:00\n",
      "Collecting contourpy>=1.0.1 (from matplotlib)\n",
      "  Downloading contourpy-1.1.0-cp311-cp311-win_amd64.whl (470 kB)\n",
      "                                              0.0/470.9 kB ? eta -:--:--\n",
      "     ------------------------------------- 470.9/470.9 kB 14.9 MB/s eta 0:00:00\n",
      "Collecting cycler>=0.10 (from matplotlib)\n",
      "  Downloading cycler-0.11.0-py3-none-any.whl (6.4 kB)\n",
      "Collecting fonttools>=4.22.0 (from matplotlib)\n",
      "  Downloading fonttools-4.40.0-cp311-cp311-win_amd64.whl (1.9 MB)\n",
      "                                              0.0/1.9 MB ? eta -:--:--\n",
      "     ---------------                          0.8/1.9 MB 16.1 MB/s eta 0:00:01\n",
      "     ----------------------                   1.1/1.9 MB 14.0 MB/s eta 0:00:01\n",
      "     ---------------------------------------- 1.9/1.9 MB 13.7 MB/s eta 0:00:00\n",
      "Collecting kiwisolver>=1.0.1 (from matplotlib)\n",
      "  Downloading kiwisolver-1.4.4-cp311-cp311-win_amd64.whl (55 kB)\n",
      "                                              0.0/55.4 kB ? eta -:--:--\n",
      "     ---------------------------------------- 55.4/55.4 kB 2.8 MB/s eta 0:00:00\n",
      "Requirement already satisfied: numpy>=1.20 in c:\\users\\patgonza\\scoop\\apps\\python\\current\\lib\\site-packages (from matplotlib) (1.25.0)\n",
      "Requirement already satisfied: packaging>=20.0 in c:\\users\\patgonza\\scoop\\apps\\python\\current\\lib\\site-packages (from matplotlib) (23.1)\n",
      "Collecting pillow>=6.2.0 (from matplotlib)\n",
      "  Downloading Pillow-9.5.0-cp311-cp311-win_amd64.whl (2.5 MB)\n",
      "                                              0.0/2.5 MB ? eta -:--:--\n",
      "     ------                                   0.4/2.5 MB 12.2 MB/s eta 0:00:01\n",
      "     --------------------                     1.3/2.5 MB 16.1 MB/s eta 0:00:01\n",
      "     -------------------------------          2.0/2.5 MB 15.6 MB/s eta 0:00:01\n",
      "     ---------------------------------------- 2.5/2.5 MB 14.5 MB/s eta 0:00:00\n",
      "Collecting pyparsing>=2.3.1 (from matplotlib)\n",
      "  Downloading pyparsing-3.1.0-py3-none-any.whl (102 kB)\n",
      "                                              0.0/102.6 kB ? eta -:--:--\n",
      "     ---------------------------------------- 102.6/102.6 kB ? eta 0:00:00\n",
      "Requirement already satisfied: python-dateutil>=2.7 in c:\\users\\patgonza\\scoop\\apps\\python\\current\\lib\\site-packages (from matplotlib) (2.8.2)\n",
      "Requirement already satisfied: six>=1.5 in c:\\users\\patgonza\\scoop\\apps\\python\\current\\lib\\site-packages (from python-dateutil>=2.7->matplotlib) (1.16.0)\n",
      "Installing collected packages: pyparsing, pillow, kiwisolver, fonttools, cycler, contourpy, matplotlib\n",
      "Successfully installed contourpy-1.1.0 cycler-0.11.0 fonttools-4.40.0 kiwisolver-1.4.4 matplotlib-3.7.1 pillow-9.5.0 pyparsing-3.1.0\n",
      "Note: you may need to restart the kernel to use updated packages.\n"
     ]
    }
   ],
   "source": [
    "pip install matplotlib"
   ]
  },
  {
   "cell_type": "markdown",
   "id": "d6cfd28a-f637-40fa-bddb-98c970f889d1",
   "metadata": {},
   "source": [
    "#### Here's a simple example of Python code that illustrates how to plot a basic line graph using the popular data visualization library, Matplotlib:"
   ]
  },
  {
   "cell_type": "code",
   "execution_count": 1,
   "id": "e59e4815-8ac8-4854-a459-bd7cd13d68ab",
   "metadata": {},
   "outputs": [
    {
     "data": {
      "image/png": "[encoded data removed]",
      "text/plain": [
       "<Figure size 640x480 with 1 Axes>"
      ]
     },
     "metadata": {},
     "output_type": "display_data"
    }
   ],
   "source": [
    "import matplotlib.pyplot as plt\n",
    "\n",
    "# Sample data\n",
    "x = [1, 2, 3, 4, 5]\n",
    "y = [2, 4, 6, 8, 10]\n",
    "\n",
    "# Plotting the graph\n",
    "plt.plot(x, y)\n",
    "\n",
    "# Customizing the graph\n",
    "plt.title(\"Line Graph\")\n",
    "plt.xlabel(\"X-axis\")\n",
    "plt.ylabel(\"Y-axis\")\n",
    "\n",
    "# Displaying the graph\n",
    "plt.show()\n"
   ]
  },
  {
   "cell_type": "markdown",
   "id": "db3daa52-bfd1-4fdc-a8c0-a520f2cb0715",
   "metadata": {},
   "source": [
    "## This is a very ***useful*** manual!"
   ]
  },
  {
   "cell_type": "markdown",
   "id": "87138a94-f816-4368-a453-d448d78948da",
   "metadata": {},
   "source": [
    "# Nested Blockquotes \n",
    "### Blockquotes can be nested. Add a >> in front of the paragraph you want to nest."
   ]
  },
  {
   "cell_type": "markdown",
   "id": "9afcfaf3-56ca-4c60-9154-fb6e0236b454",
   "metadata": {},
   "source": [
    "> This is the outer blockquote.\r\n",
    ">\r\n",
    "> > This is the first nested blockquote.\r\n",
    "> >\r\n",
    "> > > This is the second nested blockquote.\r\n",
    "> > >\r\n",
    "> > > You can keep nesting blockquotes to create deeper levels of indentation.\r\n",
    "> > >\r\n",
    "> > > > This is the third nested blockquote.\r\n",
    "> > > >\r\n",
    "> > > > You can continue nesting as many levels as  blockquote.\r\n"
   ]
  },
  {
   "cell_type": "markdown",
   "id": "43f91603-c26d-4509-9a0e-b10bf08ba630",
   "metadata": {},
   "source": [
    "# Ordered lists in jupyter notebooks\n",
    "\n",
    "### To create an ordered list, add line items with numbers followed by periods. The numbers don’t have to be in numerical order, but the list should start with the number one."
   ]
  },
  {
   "cell_type": "markdown",
   "id": "3acab00f-7406-4aec-9a8e-ed00fc1d3b5a",
   "metadata": {},
   "source": [
    "#### *Example...*"
   ]
  },
  {
   "cell_type": "markdown",
   "id": "93db67c3-29ab-4f98-ba8c-c799fcde1b44",
   "metadata": {},
   "source": [
    "<ol>\r\n",
    "    <li>Set up Jupyter Notebooks</li>\r\n",
    "    <ul>\r\n",
    "        <li>Install Anaconda or Miniconda</li>\r\n",
    "        <li>Create a new environment for Jupyter Notebooks</li>\r\n",
    "        <li>Activate the environment</li>\r\n",
    "    </ul>\r\n",
    "    <li>Launch Jupyter Notebooks</li>\r\n",
    "    <ul>\r\n",
    "        <li>Open a command prompt or terminal</li>\r\n",
    "        <li>Navigate to the desired directory</li>\r\n",
    "        <li>Type `jupyter notebook` and press Enter</li>\r\n",
    "    </ul>\r\n",
    "    <li>Create a new notebook</li>\r\n",
    "    <ul>\r\n",
    "        <li>Click on the \"New\" button in the Jupyter interface</li>\r\n",
    "        <li>Select \"Notebook\" to create a new Python notebook</li>\r\n",
    "    </ul>\r\n",
    "    <li>Work with cells</li>\r\n",
    "    <ul>\r\n",
    "        <li>Code cells</li>\r\n",
    "        <ul>\r\n",
    "            <li>Write and execute Python code</li>\r\n",
    "            <li>Use Shift + Enter to execute a cell</li>\r\n",
    "        </ul>\r\n",
    "        <li>Markdown cells</li>\r\n",
    "        <ul>\r\n",
    "            <li>Write and format text using Markdown syntax</li>\r\n",
    "            <li>Use Markdown for headings, lists, emphasis, etc.</li>\r\n",
    "        </ul>\r\n",
    "        <li>Raw cells</li>\r\n",
    "        <ul>\r\n",
    "            <li>Preserve text without any formatting or execution</li>\r\n",
    "        </ul>\r\n",
    "    </ul>\r\n",
    "    <li>Save and checkpoint</li>\r\n",
    "    <ul>\r\n",
    "        <li>Save your notebook periodically using the \"Save\" button</li>\r\n",
    "        <li>Create checkpoints to easily revert to previous versions</li>\r\n",
    "    </ul>\r\n",
    "    <li>Import libraries and data</li>\r\n",
    "    <ul>\r\n",
    "        <li>Import necessary Python libraries at the beginning of the notebook</li>\r\n",
    "        <li>Load data from files or external sources</li>\r\n",
    "    </ul>\r\n",
    "    <li>Explore and analyze data</li>\r\n",
    "    <ul>\r\n",
    "        <li>Use Python code and libraries for data manipulation and analysis</li>\r\n",
    "        <li>Visualize data using libraries like Matplotlib or Seaborn</li>\r\n",
    "    </ul>\r\n",
    "    <li>Document your work</li>\r\n",
    "    <ul>\r\n",
    "        <li>Use Markdown cells to provide explanations, insights, and observations</li>\r\n",
    "        <li>Include visualizations, tables, and code snippets</li>\r\n",
    "    </ul>\r\n",
    "    <li>Share your notebook</li>\r\n",
    "    <ul>\r\n",
    "        <li>Download your notebook as a .ipynb file to share with others</li>\r\n",
    "        <li>Publish your notebook on platforms like GitHub or Jupyter Notebook Viewer</li>\r\n",
    "    </ul>\r\n",
    "</ol>\r\n"
   ]
  },
  {
   "cell_type": "code",
   "execution_count": null,
   "id": "643f9189-d2bd-4d39-84e3-6fc4c74760e9",
   "metadata": {},
   "outputs": [],
   "source": []
  }
 ],
 "metadata": {
  "kernelspec": {
   "display_name": "Python 3 (ipykernel)",
   "language": "python",
   "name": "python3"
  },
  "language_info": {
   "codemirror_mode": {
    "name": "ipython",
    "version": 3
   },
   "file_extension": ".py",
   "mimetype": "text/x-python",
   "name": "python",
   "nbconvert_exporter": "python",
   "pygments_lexer": "ipython3",
   "version": "3.11.1"
  }
 },
 "nbformat": 4,
 "nbformat_minor": 5
}
